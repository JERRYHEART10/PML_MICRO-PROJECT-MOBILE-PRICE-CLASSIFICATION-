{
 "cells": [
  {
   "cell_type": "markdown",
   "id": "72449dd5",
   "metadata": {},
   "source": [
    "# MOBILE PRICE CLASSIFICATION"
   ]
  },
  {
   "cell_type": "markdown",
   "id": "8fb0a5c1",
   "metadata": {},
   "source": [
    "## 1. Data Preparation, Cleaning, and Manipulation"
   ]
  },
  {
   "cell_type": "code",
   "execution_count": 1,
   "id": "e21be4b6",
   "metadata": {},
   "outputs": [
    {
     "name": "stdout",
     "output_type": "stream",
     "text": [
      "2000\n",
      "2000\n",
      "Train Size :  2000 \n",
      "\n",
      "Test Size :  1000\n"
     ]
    }
   ],
   "source": [
    "#read train and test file\n",
    "import numpy as np\n",
    "import pandas as pd\n",
    "file = []\n",
    "def read_file(path) :\n",
    "    name = input()\n",
    "    name = pd.read_csv(path)\n",
    "    file.append(name)\n",
    "    \n",
    "read_file('train.csv')\n",
    "read_file('test.csv')\n",
    "train = file[0]\n",
    "test = file[1]\n",
    "print('Train Size : ', train.shape[0], '\\n')\n",
    "print('Test Size : ', test.shape[0])"
   ]
  },
  {
   "cell_type": "code",
   "execution_count": 2,
   "id": "d99367e4",
   "metadata": {},
   "outputs": [],
   "source": [
    "def check(case,df):\n",
    "    if case=='null':\n",
    "        return df.isnull().sum()\n",
    "    elif case=='duplicate':\n",
    "        return df.duplicated().sum()\n",
    "    elif case=='outlier':\n",
    "        q1=df.quantile(0.25)\n",
    "        q3=df.quantile(0.75)\n",
    "        iqr=q3-q1\n",
    "        lower_bound=q1 - 1.5*iqr\n",
    "        upper_bound=q3 + 1.5*iqr\n",
    "        print('Upper Bound Value: {}'.format(upper_bound),'\\n')\n",
    "        print('Lower Bound Value: {}'.format(lower_bound))"
   ]
  },
  {
   "cell_type": "code",
   "execution_count": 3,
   "id": "a6d7ba1b",
   "metadata": {},
   "outputs": [
    {
     "name": "stdout",
     "output_type": "stream",
     "text": [
      "Upper Bound Value: battery_power    2760.500\n",
      "blue                2.500\n",
      "clock_speed         4.450\n",
      "dual_sim            2.500\n",
      "fc                 16.000\n",
      "four_g              2.500\n",
      "int_memory         96.000\n",
      "m_dep               1.700\n",
      "mobile_wt         261.500\n",
      "n_cores            13.000\n",
      "pc                 30.000\n",
      "px_height        1944.000\n",
      "px_width         2770.375\n",
      "ram              5850.000\n",
      "sc_h               26.500\n",
      "sc_w               19.500\n",
      "talk_time          31.000\n",
      "three_g             1.000\n",
      "touch_screen        2.500\n",
      "wifi                2.500\n",
      "price_range         4.500\n",
      "dtype: float64 \n",
      "\n",
      "Lower Bound Value: battery_power    -293.500\n",
      "blue               -1.500\n",
      "clock_speed        -1.550\n",
      "dual_sim           -1.500\n",
      "fc                 -8.000\n",
      "four_g             -1.500\n",
      "int_memory        -32.000\n",
      "m_dep              -0.700\n",
      "mobile_wt          17.500\n",
      "n_cores            -3.000\n",
      "pc                -10.000\n",
      "px_height        -714.000\n",
      "px_width         -262.625\n",
      "ram             -1578.000\n",
      "sc_h               -1.500\n",
      "sc_w               -8.500\n",
      "talk_time          -9.000\n",
      "three_g             1.000\n",
      "touch_screen       -1.500\n",
      "wifi               -1.500\n",
      "price_range        -1.500\n",
      "dtype: float64\n"
     ]
    }
   ],
   "source": [
    "check('null',train)\n",
    "check('duplicate',train)\n",
    "check('outlier', train)"
   ]
  },
  {
   "cell_type": "code",
   "execution_count": 4,
   "id": "4a28efcd",
   "metadata": {},
   "outputs": [
    {
     "name": "stdout",
     "output_type": "stream",
     "text": [
      "Corr battery_power: 0.20072261211373096\n",
      "Corr blue: 0.02057285406141847\n",
      "Corr clock_speed: -0.006605690881732064\n",
      "Corr dual_sim: 0.01744447923722472\n",
      "Corr fc: 0.02199820777690428\n",
      "Corr four_g: 0.01477171141723938\n",
      "Corr int_memory: 0.044434959388987415\n",
      "Corr m_dep: 0.0008530365050864261\n",
      "Corr mobile_wt: -0.030302171314386384\n",
      "Corr n_cores: 0.004399274799457278\n",
      "Corr pc: 0.03359930021353948\n",
      "Corr px_height: 0.14885755500042172\n",
      "Corr px_width: 0.16581750172625506\n",
      "Corr ram: 0.9170457362649908\n",
      "Corr sc_h: 0.022986073167424424\n",
      "Corr sc_w: 0.03871127166448417\n",
      "Corr talk_time: 0.02185887116237478\n",
      "Corr three_g: 0.02361121688004502\n",
      "Corr touch_screen: -0.030411071898218043\n",
      "Corr wifi: 0.018784812012789\n",
      "Corr price_range: 1.0\n"
     ]
    }
   ],
   "source": [
    "#Check Correlation Between Features and Target\n",
    "for a in train.columns :\n",
    "    try :\n",
    "        print(f'Corr {a}: {train[a].corr(train[\"price_range\"])}')\n",
    "    except :\n",
    "        pass"
   ]
  },
  {
   "cell_type": "code",
   "execution_count": 5,
   "id": "11037c10",
   "metadata": {},
   "outputs": [],
   "source": [
    "col_list = ['ram','px_height','px_width','battery_power']\n",
    "#Outlier Removal \n",
    "for a in col_list: \n",
    "    q1 = train[a].quantile(0.25)\n",
    "    q3 = train[a].quantile(0.75)\n",
    "    iqr = q3-q1\n",
    "    upper = q3 + 1.5*iqr\n",
    "    lower = q1 - 1.5*iqr\n",
    "    train = train[(train[a] > 0) & (train[a] < upper)]"
   ]
  },
  {
   "cell_type": "markdown",
   "id": "b98d0201",
   "metadata": {},
   "source": [
    "## 2. Feature Selection and Model Training"
   ]
  },
  {
   "cell_type": "code",
   "execution_count": 6,
   "id": "d6ab9b26",
   "metadata": {},
   "outputs": [
    {
     "name": "stdout",
     "output_type": "stream",
     "text": [
      "Pipeline(steps=[('preprocessing',\n",
      "                 ColumnTransformer(transformers=[('num',\n",
      "                                                  Pipeline(steps=[('scaler',\n",
      "                                                                   StandardScaler())]),\n",
      "                                                  [0, 1, 2, 3])])),\n",
      "                ('logregression', LogisticRegression(C=10.0, max_iter=10000))])\n"
     ]
    },
    {
     "name": "stderr",
     "output_type": "stream",
     "text": [
      "C:\\Users\\jerry\\anaconda3\\lib\\site-packages\\sklearn\\utils\\validation.py:63: DataConversionWarning: A column-vector y was passed when a 1d array was expected. Please change the shape of y to (n_samples, ), for example using ravel().\n",
      "  return f(*args, **kwargs)\n"
     ]
    }
   ],
   "source": [
    "from sklearn.preprocessing import StandardScaler\n",
    "from sklearn.compose import ColumnTransformer\n",
    "from sklearn.pipeline import Pipeline\n",
    "from sklearn.linear_model import LogisticRegression\n",
    "from sklearn.model_selection import train_test_split\n",
    "feature = ['ram','px_height','px_width','battery_power']\n",
    "label = ['price_range']\n",
    "X,y = train[feature].values, train[label].values\n",
    "X_train, X_test, y_train, y_test = train_test_split(X,y, test_size = 0.25, random_state = 42)\n",
    "#Define Preprocessing for Numeric Columns\n",
    "num_features = [0,1,2,3]\n",
    "num_transformer = Pipeline(steps = [\n",
    "    ('scaler', StandardScaler())\n",
    "])\n",
    "preprocessor = ColumnTransformer(transformers = [\n",
    "    ('num', num_transformer, num_features)\n",
    "])\n",
    "pipeline_lr = Pipeline(steps= [\n",
    "    ('preprocessing', preprocessor),\n",
    "    ('logregression', LogisticRegression(C=1/0.1, solver='lbfgs', multi_class = 'auto', max_iter = 10000))\n",
    "])\n",
    "model_lr = pipeline_lr.fit(X_train,y_train)\n",
    "print(model_lr)"
   ]
  },
  {
   "cell_type": "markdown",
   "id": "afc5ecd3",
   "metadata": {},
   "source": [
    "## 3. Model Evaluation and Generate Prediction"
   ]
  },
  {
   "cell_type": "code",
   "execution_count": 7,
   "id": "8c326c5a",
   "metadata": {},
   "outputs": [
    {
     "name": "stdout",
     "output_type": "stream",
     "text": [
      "     0    1    2    3\n",
      "0  119    3    0    0\n",
      "1    0  119    0    0\n",
      "2    0    4  119    5\n",
      "3    0    0    7  123\n",
      "Accuracy :  0.9619238476953907\n"
     ]
    }
   ],
   "source": [
    "#Check accuracy using confusion matrix\n",
    "from sklearn.metrics import accuracy_score, classification_report, confusion_matrix\n",
    "prediction_lr = model_lr.predict(X_test)\n",
    "cm_lr = confusion_matrix(y_test, prediction_lr)\n",
    "print(pd.DataFrame(cm_lr))\n",
    "print('Accuracy : ', accuracy_score(y_test, prediction_lr))"
   ]
  },
  {
   "cell_type": "code",
   "execution_count": 8,
   "id": "04f86fa2",
   "metadata": {},
   "outputs": [],
   "source": [
    "import matplotlib.pyplot as plt"
   ]
  },
  {
   "cell_type": "code",
   "execution_count": 9,
   "id": "27bb00a7",
   "metadata": {},
   "outputs": [
    {
     "data": {
      "image/png": "[encoded data removed]",
      "text/plain": [
       "<Figure size 432x288 with 2 Axes>"
      ]
     },
     "metadata": {
      "needs_background": "light"
     },
     "output_type": "display_data"
    }
   ],
   "source": [
    "#Plot Confusion Matrix\n",
    "price_class = [0,1,2,3]\n",
    "plt.imshow(cm_lr, interpolation = 'nearest')\n",
    "plt.colorbar()\n",
    "tick_marks = np.arange(len(price_class))\n",
    "plt.xticks(tick_marks, price_class)\n",
    "plt.yticks(tick_marks, price_class)\n",
    "plt.xlabel('Predicted')\n",
    "plt.ylabel('Actual')\n",
    "plt.show()"
   ]
  },
  {
   "cell_type": "code",
   "execution_count": 10,
   "id": "ce45a21f",
   "metadata": {},
   "outputs": [
    {
     "name": "stdout",
     "output_type": "stream",
     "text": [
      "              precision    recall  f1-score   support\n",
      "\n",
      "           0       1.00      0.98      0.99       122\n",
      "           1       0.94      1.00      0.97       119\n",
      "           2       0.94      0.93      0.94       128\n",
      "           3       0.96      0.95      0.95       130\n",
      "\n",
      "    accuracy                           0.96       499\n",
      "   macro avg       0.96      0.96      0.96       499\n",
      "weighted avg       0.96      0.96      0.96       499\n",
      "\n"
     ]
    }
   ],
   "source": [
    "print(classification_report(y_test, prediction_lr))#Predict our outcome\n",
    "test = test[feature]\n",
    "result = pd.DataFrame(model_lr.predict(test))\n",
    "final = test.merge(result, left_index = True, right_index = True)\n",
    "final = final.rename(columns = {0:'price_range'})\n",
    "final.to_csv('result.csv')"
   ]
  }
 ],
 "metadata": {
  "kernelspec": {
   "display_name": "Python 3",
   "language": "python",
   "name": "python3"
  },
  "language_info": {
   "codemirror_mode": {
    "name": "ipython",
    "version": 3
   },
   "file_extension": ".py",
   "mimetype": "text/x-python",
   "name": "python",
   "nbconvert_exporter": "python",
   "pygments_lexer": "ipython3",
   "version": "3.8.8"
  }
 },
 "nbformat": 4,
 "nbformat_minor": 5
}
